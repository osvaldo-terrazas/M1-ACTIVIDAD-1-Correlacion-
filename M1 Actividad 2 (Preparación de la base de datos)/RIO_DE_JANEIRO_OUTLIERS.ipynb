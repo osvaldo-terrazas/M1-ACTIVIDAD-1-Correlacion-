{
  "cells": [
    {
      "cell_type": "code",
      "execution_count": 1,
      "metadata": {
        "id": "c3VQZPMno2Ed"
      },
      "outputs": [],
      "source": [
        "#Importar librerias necesarias\n",
        "import pandas as pd\n",
        "import numpy as np\n",
        "import matplotlib.pyplot as plt"
      ]
    },
    {
      "cell_type": "code",
      "execution_count": 2,
      "metadata": {
        "id": "-koVtRxbpCR6"
      },
      "outputs": [],
      "source": [
        "pd.set_option('display.max_columns', None)"
      ]
    },
    {
      "cell_type": "code",
      "execution_count": null,
      "metadata": {
        "colab": {
          "base_uri": "https://localhost:8080/",
          "height": 1000
        },
        "id": "_dKUXXdKpFKE",
        "outputId": "ae5276a5-be5c-4daa-f0d8-86086835bee9"
      },
      "outputs": [],
      "source": [
        "#Carga desde un archivo .csv sin indice y eliminar filas innecesarias\n",
        "Rio_de_Janeiro = pd.read_csv(\"Listings Final-Rio de Janeiro.csv\", on_bad_lines='skip')\n",
        "Rio_de_Janeiro"
      ]
    },
    {
      "cell_type": "code",
      "execution_count": null,
      "metadata": {},
      "outputs": [],
      "source": [
        "#Convertir la variable price a numerico\n",
        "Rio_de_Janeiro['price'] = Rio_de_Janeiro['price'].replace('[\\$,]', '', regex=True).astype(float)"
      ]
    },
    {
      "cell_type": "code",
      "execution_count": null,
      "metadata": {
        "colab": {
          "base_uri": "https://localhost:8080/",
          "height": 994
        },
        "id": "oWX-HEytpNRR",
        "outputId": "3b291ee4-a661-404d-df29-2787dae15b0b"
      },
      "outputs": [],
      "source": [
        "#Identificar valores nulos por columna\n",
        "Valores_Nulos=Rio_de_Janeiro.isnull().sum()\n",
        "Columnas_Con_Nulos = Valores_Nulos[Valores_Nulos > 0]\n",
        "Columnas_Con_Nulos"
      ]
    },
    {
      "cell_type": "code",
      "execution_count": null,
      "metadata": {
        "colab": {
          "base_uri": "https://localhost:8080/",
          "height": 554
        },
        "id": "ddik-KWNpPE3",
        "outputId": "1e49bb51-0d7b-43d1-f8ff-643b6d2dea3a"
      },
      "outputs": [],
      "source": [
        "#Información tipos de columnas\n",
        "Tipos_Columnas = Rio_de_Janeiro[Columnas_Con_Nulos.index].dtypes\n",
        "Columnas_Object = Tipos_Columnas[Tipos_Columnas == 'object']\n",
        "Columnas_Object"
      ]
    },
    {
      "cell_type": "code",
      "execution_count": null,
      "metadata": {
        "colab": {
          "base_uri": "https://localhost:8080/",
          "height": 523
        },
        "id": "AMwyuIJ5pRpa",
        "outputId": "9ad3d988-9197-4778-de89-967d90748163"
      },
      "outputs": [],
      "source": [
        "#Información tipos de columnas\n",
        "Tipos_Columnas = Rio_de_Janeiro[Columnas_Con_Nulos.index].dtypes\n",
        "Columnas_Object = Tipos_Columnas[Tipos_Columnas == 'float']\n",
        "Columnas_Object"
      ]
    },
    {
      "cell_type": "code",
      "execution_count": 18,
      "metadata": {
        "id": "G-EwzFa8pT11"
      },
      "outputs": [],
      "source": [
        "#Realizamos una copia del dataframe\n",
        "copia_Rio_de_Janeiro = Rio_de_Janeiro.copy()"
      ]
    },
    {
      "cell_type": "code",
      "execution_count": 19,
      "metadata": {
        "id": "rKAUfma2pV8I"
      },
      "outputs": [],
      "source": [
        "#Sustituir valores nulos por un string en  concreto\n",
        "copia_Rio_de_Janeiro[\"description\"] = copia_Rio_de_Janeiro[\"description\"].fillna(\"DESCRIPCIÓN FALTANTE\")\n",
        "copia_Rio_de_Janeiro[\"neighborhood_overview\"] = copia_Rio_de_Janeiro[\"neighborhood_overview\"].fillna(\"SIN INFORMACIÓN\")\n",
        "copia_Rio_de_Janeiro[\"host_name\"] = copia_Rio_de_Janeiro[\"host_name\"].fillna(\"ANONIMO\")\n",
        "copia_Rio_de_Janeiro[\"host_location\"] = copia_Rio_de_Janeiro[\"host_location\"].fillna(\"SIN INFORMACIÓN\")\n",
        "copia_Rio_de_Janeiro[\"host_about\"] = copia_Rio_de_Janeiro[\"host_about\"].fillna(\"SIN INFORMACIÓN\")\n",
        "copia_Rio_de_Janeiro[\"host_response_time\"] = copia_Rio_de_Janeiro[\"host_response_time\"].fillna(\"SIN INFORMACIÓN\")\n",
        "copia_Rio_de_Janeiro[\"host_response_rate\"] = copia_Rio_de_Janeiro[\"host_response_rate\"].fillna(\"SIN INFORMACIÓN\")\n",
        "copia_Rio_de_Janeiro[\"host_acceptance_rate\"] = copia_Rio_de_Janeiro[\"host_acceptance_rate\"].fillna(\"SIN INFORMACIÓN\")\n",
        "copia_Rio_de_Janeiro[\"host_is_superhost\"] = copia_Rio_de_Janeiro[\"host_is_superhost\"].fillna(\"VALIDACIÓN PENDIENTE\")\n",
        "copia_Rio_de_Janeiro[\"host_neighbourhood\"] = copia_Rio_de_Janeiro[\"host_neighbourhood\"].fillna(\"SIN INFORMACIÓN\")\n",
        "copia_Rio_de_Janeiro[\"host_total_listings_count\"] = copia_Rio_de_Janeiro[\"host_total_listings_count\"].fillna(\"SIN INFORMACIÓN\")\n",
        "copia_Rio_de_Janeiro[\"host_verifications\"] = copia_Rio_de_Janeiro[\"host_verifications\"].fillna(\"VALIDACIÓN PENDIENTE\")\n",
        "copia_Rio_de_Janeiro[\"host_identity_verified\"] = copia_Rio_de_Janeiro[\"host_identity_verified\"].fillna(\"VALIDACIÓN PENDIENTE\")\n",
        "copia_Rio_de_Janeiro[\"neighbourhood\"] = copia_Rio_de_Janeiro[\"neighbourhood\"].fillna(\"SIN INFORMACIÓN\")\n",
        "copia_Rio_de_Janeiro[\"neighbourhood_group_cleansed\"] = copia_Rio_de_Janeiro[\"neighbourhood_group_cleansed\"].fillna(\"SIN INFORMACIÓN\")\n",
        "copia_Rio_de_Janeiro[\"room_type\"] = copia_Rio_de_Janeiro[\"room_type\"].fillna(\"INFORMACIÓN FALTANTE\")\n",
        "copia_Rio_de_Janeiro[\"accommodates\"] = copia_Rio_de_Janeiro[\"accommodates\"].fillna(\"INFORMACIÓN FALTANTE\")\n",
        "copia_Rio_de_Janeiro[\"bathrooms\"] = copia_Rio_de_Janeiro[\"bathrooms\"].fillna(\"INFORMACIÓN FALTANTE\")\n",
        "copia_Rio_de_Janeiro[\"bathrooms_text\"] = copia_Rio_de_Janeiro[\"bathrooms_text\"].fillna(\"INFORMACIÓN FALTANTE\")\n",
        "copia_Rio_de_Janeiro[\"bedrooms\"] = copia_Rio_de_Janeiro[\"bedrooms\"].fillna(\"INFORMACIÓN FALTANTE\")\n",
        "copia_Rio_de_Janeiro[\"amenities\"] = copia_Rio_de_Janeiro[\"amenities\"].fillna(\"INFORMACIÓN FALTANTE\")\n",
        "copia_Rio_de_Janeiro[\"maximum_nights\"] = copia_Rio_de_Janeiro[\"maximum_nights\"].fillna(\"NO DEFINIDO\")\n",
        "copia_Rio_de_Janeiro[\"minimum_minimum_nights\"] = copia_Rio_de_Janeiro[\"minimum_minimum_nights\"].fillna(\"NO DEFINIDO\")\n",
        "copia_Rio_de_Janeiro[\"calendar_updated\"] = copia_Rio_de_Janeiro[\"calendar_updated\"].fillna(\"INFORMACIÓN NO DISPONIBLE\")\n",
        "copia_Rio_de_Janeiro[\"has_availability\"] = copia_Rio_de_Janeiro[\"has_availability\"].fillna(\"INFORMACIÓN NO DISPONIBLE\")\n",
        "copia_Rio_de_Janeiro[\"availability_30\"] = copia_Rio_de_Janeiro[\"availability_30\"].fillna(\"INFORMACIÓN NO DISPONIBLE\")\n",
        "copia_Rio_de_Janeiro[\"availability_60\"] = copia_Rio_de_Janeiro[\"availability_60\"].fillna(\"INFORMACIÓN NO DISPONIBLE\")\n",
        "copia_Rio_de_Janeiro[\"availability_90\"] = copia_Rio_de_Janeiro[\"availability_90\"].fillna(\"INFORMACIÓN NO DISPONIBLE\")\n",
        "copia_Rio_de_Janeiro[\"availability_365\"] = copia_Rio_de_Janeiro[\"availability_365\"].fillna(\"INFORMACIÓN NO DISPONIBLE\")\n",
        "copia_Rio_de_Janeiro[\"calendar_last_scraped\"] = copia_Rio_de_Janeiro[\"calendar_last_scraped\"].fillna(\"INFORMACIÓN NO DISPONIBLE\")\n",
        "copia_Rio_de_Janeiro[\"number_of_reviews\"] = copia_Rio_de_Janeiro[\"number_of_reviews\"].fillna(\"INFORMACIÓN NO DISPONIBLE\")\n",
        "copia_Rio_de_Janeiro[\"number_of_reviews_ltm\"] = copia_Rio_de_Janeiro[\"number_of_reviews_ltm\"].fillna(\"INFORMACIÓN NO DISPONIBLE\")\n",
        "copia_Rio_de_Janeiro[\"first_review\"] = copia_Rio_de_Janeiro[\"first_review\"].fillna(\"SIN RESEÑA\")\n",
        "copia_Rio_de_Janeiro[\"last_review\"] = copia_Rio_de_Janeiro[\"last_review\"].fillna(\"SIN RESEÑA\")\n",
        "copia_Rio_de_Janeiro[\"review_scores_rating\"] = copia_Rio_de_Janeiro[\"review_scores_rating\"].fillna(\"INFORMACIÓN NO DISPONIBLE\")\n",
        "copia_Rio_de_Janeiro[\"review_scores_cleanliness\"] = copia_Rio_de_Janeiro[\"review_scores_cleanliness\"].fillna(\"INFORMACIÓN NO DISPONIBLE\")\n",
        "copia_Rio_de_Janeiro[\"review_scores_location\"] = copia_Rio_de_Janeiro[\"review_scores_location\"].fillna(\"INFORMACIÓN NO DISPONIBLE\")\n",
        "copia_Rio_de_Janeiro[\"instant_bookable\"] = copia_Rio_de_Janeiro[\"instant_bookable\"].fillna(\"INFORMACIÓN NO DISPONIBLE\")"
      ]
    },
    {
      "cell_type": "code",
      "execution_count": 20,
      "metadata": {
        "id": "7meY5vu-pYwq"
      },
      "outputs": [],
      "source": [
        "#Sustituir valores nulos con promedio o media\n",
        "copia_Rio_de_Janeiro[\"minimum_nights\"] = copia_Rio_de_Janeiro[\"minimum_nights\"].fillna(round(copia_Rio_de_Janeiro[\"minimum_nights\"].mean(), 1))\n",
        "copia_Rio_de_Janeiro[\"maximum_maximum_nights\"] = copia_Rio_de_Janeiro[\"maximum_maximum_nights\"].fillna(round(copia_Rio_de_Janeiro[\"maximum_maximum_nights\"].mean(), 1))\n",
        "copia_Rio_de_Janeiro[\"maximum_nights_avg_ntm\"] = copia_Rio_de_Janeiro[\"maximum_nights_avg_ntm\"].fillna(round(copia_Rio_de_Janeiro[\"maximum_nights_avg_ntm\"].mean(), 1))\n",
        "copia_Rio_de_Janeiro[\"number_of_reviews_l30d\"] = copia_Rio_de_Janeiro[\"number_of_reviews_l30d\"].fillna(round(copia_Rio_de_Janeiro[\"number_of_reviews_l30d\"].mean(), 1))\n",
        "copia_Rio_de_Janeiro[\"review_scores_accuracy\"] = copia_Rio_de_Janeiro[\"review_scores_accuracy\"].fillna(round(copia_Rio_de_Janeiro[\"review_scores_accuracy\"].mean(), 1))\n",
        "copia_Rio_de_Janeiro[\"review_scores_checkin\"] = copia_Rio_de_Janeiro[\"review_scores_checkin\"].fillna(round(copia_Rio_de_Janeiro[\"review_scores_checkin\"].mean(), 1))\n",
        "copia_Rio_de_Janeiro[\"price\"] = copia_Rio_de_Janeiro[\"price\"].fillna(round(copia_Rio_de_Janeiro[\"price\"].mean(), 1))\n",
        "copia_Rio_de_Janeiro[\"review_scores_communication\"] = copia_Rio_de_Janeiro[\"review_scores_communication\"].fillna(round(copia_Rio_de_Janeiro[\"review_scores_communication\"].mean(), 1))\n",
        "copia_Rio_de_Janeiro[\"review_scores_value\"] = copia_Rio_de_Janeiro[\"review_scores_value\"].fillna(round(copia_Rio_de_Janeiro[\"review_scores_value\"].mean(), 1))\n",
        "copia_Rio_de_Janeiro[\"calculated_host_listings_count\"] = copia_Rio_de_Janeiro[\"calculated_host_listings_count\"].fillna(round(copia_Rio_de_Janeiro[\"calculated_host_listings_count\"].mean(), 1))\n",
        "copia_Rio_de_Janeiro[\"calculated_host_listings_count_entire_homes\"] = copia_Rio_de_Janeiro[\"calculated_host_listings_count_entire_homes\"].fillna(round(copia_Rio_de_Janeiro[\"calculated_host_listings_count_entire_homes\"].mean(), 1))\n",
        "copia_Rio_de_Janeiro[\"calculated_host_listings_count_private_rooms\"] = copia_Rio_de_Janeiro[\"calculated_host_listings_count_private_rooms\"].fillna(round(copia_Rio_de_Janeiro[\"calculated_host_listings_count_private_rooms\"].mean(), 1))\n",
        "copia_Rio_de_Janeiro[\"calculated_host_listings_count_shared_rooms\"] = copia_Rio_de_Janeiro[\"calculated_host_listings_count_shared_rooms\"].fillna(round(copia_Rio_de_Janeiro[\"calculated_host_listings_count_shared_rooms\"].mean(), 1))\n",
        "copia_Rio_de_Janeiro[\"reviews_per_month\"] = copia_Rio_de_Janeiro[\"reviews_per_month\"].fillna(round(copia_Rio_de_Janeiro[\"reviews_per_month\"].mean(), 1))"
      ]
    },
    {
      "cell_type": "code",
      "execution_count": 21,
      "metadata": {
        "id": "gGjuXv4Ipi-9"
      },
      "outputs": [],
      "source": [
        "#Sustituir valores nulos por un valor numérico en  concreto\n",
        "copia_Rio_de_Janeiro[\"beds\"]=copia_Rio_de_Janeiro[\"beds\"].fillna(\"-\")\n",
        "copia_Rio_de_Janeiro[\"license\"]=copia_Rio_de_Janeiro[\"license\"].fillna(\"0\")"
      ]
    },
    {
      "cell_type": "code",
      "execution_count": null,
      "metadata": {
        "colab": {
          "base_uri": "https://localhost:8080/",
          "height": 1000
        },
        "id": "IsHCN0uqpk6t",
        "outputId": "f4e6a520-d70e-4fb7-89a9-885d0d0c51d7"
      },
      "outputs": [],
      "source": [
        "#Corroboramos valores nulos\n",
        "# Ajustar maximo de filas\n",
        "valores_nulos=copia_Rio_de_Janeiro.isnull().sum()\n",
        "valores_nulos"
      ]
    },
    {
      "cell_type": "code",
      "execution_count": 23,
      "metadata": {
        "id": "XMjE59vtpu_e"
      },
      "outputs": [],
      "source": [
        "#Seleccionar variables relevantes\n",
        "Rio_de_Janeiro_variables = copia_Rio_de_Janeiro[['listing_url', 'last_scraped', 'source', 'name', 'host_url', 'host_name', 'host_since', 'host_location', 'host_response_time', 'host_response_rate', 'host_acceptance_rate', 'host_is_superhost', 'host_neighbourhood', 'host_verifications', 'host_has_profile_pic', 'host_identity_verified', 'neighbourhood_cleansed', 'property_type', 'room_type', 'accommodates', 'bathrooms_text', 'bedrooms', 'beds', 'amenities', 'price', 'has_availability', 'number_of_reviews', 'review_scores_rating', 'instant_bookable', 'calculated_host_listings_count', 'reviews_per_month']]"
      ]
    },
    {
      "cell_type": "code",
      "execution_count": null,
      "metadata": {
        "colab": {
          "base_uri": "https://localhost:8080/",
          "height": 539
        },
        "id": "f8rhqe66qIS6",
        "outputId": "9d0ba816-1fc3-4d44-b672-a495fe64bc3e"
      },
      "outputs": [],
      "source": [
        "Rio_de_Janeiro_variables.head()"
      ]
    },
    {
      "cell_type": "markdown",
      "metadata": {
        "id": "IG2as-uqqOvO"
      },
      "source": [
        "ELIMINAR OUTLIERS POR DESVIACION ESTANDAR"
      ]
    },
    {
      "cell_type": "code",
      "execution_count": null,
      "metadata": {
        "colab": {
          "base_uri": "https://localhost:8080/",
          "height": 1000
        },
        "id": "KT8id_ocqM86",
        "outputId": "2445f935-c4bd-4e37-e04a-1567b19fa510"
      },
      "outputs": [],
      "source": [
        "Rio_de_Janeiro_variables.dtypes"
      ]
    },
    {
      "cell_type": "code",
      "execution_count": 26,
      "metadata": {
        "id": "P-KX0dIeqVHG"
      },
      "outputs": [],
      "source": [
        "#Separar por columnas cualitativas y cuantitativas\n",
        "columnas_cualitativas = Rio_de_Janeiro_variables.select_dtypes(include = 'object')\n",
        "columnas_cuantitativas = Rio_de_Janeiro_variables.select_dtypes(include = ['int64', 'float64'])"
      ]
    },
    {
      "cell_type": "code",
      "execution_count": null,
      "metadata": {
        "colab": {
          "base_uri": "https://localhost:8080/",
          "height": 469
        },
        "id": "oWSdWcUtqbx5",
        "outputId": "7b1362c9-9715-440b-c8a9-b871dc287f8b"
      },
      "outputs": [],
      "source": [
        "#Hacer un boxplot de valores atipicos de las columnas cuantitativas\n",
        "fig = plt.figure(figsize = (20, 10))\n",
        "columnas_cuantitativas.plot(kind = 'box', vert = False)\n",
        "plt.title(\"Valores atipicos\")\n",
        "plt.show()"
      ]
    },
    {
      "cell_type": "code",
      "execution_count": null,
      "metadata": {
        "colab": {
          "base_uri": "https://localhost:8080/"
        },
        "id": "3iQvR2Uhqg82",
        "outputId": "6c23e3ce-2e56-4cd4-8111-e9b289bb29f4"
      },
      "outputs": [],
      "source": [
        "y = columnas_cuantitativas\n",
        "Limite_superior = y.mean() + 3*y.std()\n",
        "Limite_inferior = y.mean() - 3*y.std()\n",
        "print(\"Limite superior permitido\", Limite_superior)\n",
        "print(\"Limite inferior permitido\", Limite_inferior)"
      ]
    },
    {
      "cell_type": "code",
      "execution_count": 29,
      "metadata": {
        "id": "77TWipRdqlTn"
      },
      "outputs": [],
      "source": [
        "#Filtrar solo por columnas dentro de los limites\n",
        "columnas_cuantitativas_sin_outliers = columnas_cuantitativas[(y <= Limite_superior) & (y >= Limite_inferior)]"
      ]
    },
    {
      "cell_type": "code",
      "execution_count": null,
      "metadata": {
        "colab": {
          "base_uri": "https://localhost:8080/",
          "height": 210
        },
        "id": "65my1f3Dqnni",
        "outputId": "5ed365bc-a3ec-4070-b158-53eac507b383"
      },
      "outputs": [],
      "source": [
        "#Revisar valores nulos\n",
        "valores_nulos_cuantitativo = columnas_cuantitativas_sin_outliers.isnull().sum()\n",
        "valores_nulos_cuantitativo"
      ]
    },
    {
      "cell_type": "code",
      "execution_count": 34,
      "metadata": {
        "id": "o0DmXc25qr36"
      },
      "outputs": [],
      "source": [
        "#Hacer una copia del dataframe y rellenar los valores nulos con la media\n",
        "columnas_cuantitativas_limpio = columnas_cuantitativas_sin_outliers.copy()\n",
        "columnas_cuantitativas_limpio = columnas_cuantitativas_limpio.fillna(round(columnas_cuantitativas_sin_outliers.mean(), 1))"
      ]
    },
    {
      "cell_type": "code",
      "execution_count": null,
      "metadata": {
        "colab": {
          "base_uri": "https://localhost:8080/",
          "height": 539
        },
        "id": "dViem6ZSqusV",
        "outputId": "43d5f92f-25d3-4607-b48d-9f98cec8cb2d"
      },
      "outputs": [],
      "source": [
        "#Se juntan las columnas cualitativas con las cuantitativas\n",
        "Rio_outliers = pd.concat([columnas_cuantitativas_limpio, columnas_cualitativas], axis = 1)\n",
        "Rio_outliers.head()"
      ]
    },
    {
      "cell_type": "code",
      "execution_count": null,
      "metadata": {
        "colab": {
          "base_uri": "https://localhost:8080/",
          "height": 1000
        },
        "id": "C_4IIidOqxc1",
        "outputId": "392ead80-43b0-4809-8472-cbe4aade1586"
      },
      "outputs": [],
      "source": [
        "#Comprobamos que no existan valores nulos\n",
        "valores_nulos_Rio_outliers = Rio_outliers.isnull().sum()\n",
        "valores_nulos_Rio_outliers"
      ]
    },
    {
      "cell_type": "code",
      "execution_count": 37,
      "metadata": {},
      "outputs": [],
      "source": [
        "Rio_outliers.to_csv('Rio de Janeiro sin outliers.csv', index=False)"
      ]
    }
  ],
  "metadata": {
    "colab": {
      "provenance": []
    },
    "kernelspec": {
      "display_name": "Python 3",
      "name": "python3"
    },
    "language_info": {
      "codemirror_mode": {
        "name": "ipython",
        "version": 3
      },
      "file_extension": ".py",
      "mimetype": "text/x-python",
      "name": "python",
      "nbconvert_exporter": "python",
      "pygments_lexer": "ipython3",
      "version": "3.12.4"
    }
  },
  "nbformat": 4,
  "nbformat_minor": 0
}
