{
  "cells": [
    {
      "cell_type": "code",
      "execution_count": 1,
      "metadata": {
        "id": "OWeeVCkkRT_9"
      },
      "outputs": [],
      "source": [
        "#librerias\n",
        "import pandas as pd\n",
        "import numpy as np\n",
        "import matplotlib.pyplot as plt"
      ]
    },
    {
      "cell_type": "code",
      "execution_count": 2,
      "metadata": {
        "id": "UFAEe73QRrzy"
      },
      "outputs": [],
      "source": [
        "#Carga desde un archivo .csv sin indice y eliminar filas innecesarias\n",
        "Chicago= pd.read_csv('Listings Final Chicago.csv')"
      ]
    },
    {
      "cell_type": "code",
      "execution_count": 3,
      "metadata": {
        "colab": {
          "base_uri": "https://localhost:8080/",
          "height": 994
        },
        "id": "Yc1BYDGmTfl_",
        "outputId": "12a13264-885f-4bce-97a1-3e0808d54c35"
      },
      "outputs": [
        {
          "data": {
            "text/plain": [
              "description                      204\n",
              "neighborhood_overview           2560\n",
              "host_location                   1423\n",
              "host_about                      2597\n",
              "host_response_time               334\n",
              "host_response_rate               334\n",
              "host_acceptance_rate             306\n",
              "host_is_superhost                190\n",
              "host_neighbourhood               207\n",
              "neighbourhood                   2559\n",
              "neighbourhood_group_cleansed    7952\n",
              "bathrooms                        355\n",
              "bathrooms_text                    12\n",
              "bedrooms                          87\n",
              "beds                             403\n",
              "price                            354\n",
              "calendar_updated                7952\n",
              "has_availability                  44\n",
              "first_review                    1449\n",
              "last_review                     1449\n",
              "review_scores_rating            1449\n",
              "review_scores_accuracy          1457\n",
              "review_scores_cleanliness       1457\n",
              "review_scores_checkin           1457\n",
              "review_scores_communication     1457\n",
              "review_scores_location          1457\n",
              "review_scores_value             1457\n",
              "license                         1535\n",
              "reviews_per_month               1449\n",
              "dtype: int64"
            ]
          },
          "execution_count": 3,
          "metadata": {},
          "output_type": "execute_result"
        }
      ],
      "source": [
        "#Identificar valores nulos por columna\n",
        "Valores_Nulos= Chicago.isnull().sum()\n",
        "Columnas_Con_Nulos = Valores_Nulos[Valores_Nulos > 0]\n",
        "Columnas_Con_Nulos"
      ]
    },
    {
      "cell_type": "code",
      "execution_count": 4,
      "metadata": {
        "colab": {
          "base_uri": "https://localhost:8080/",
          "height": 586
        },
        "id": "fi2zJq0OUUum",
        "outputId": "b200aa9e-eeb3-4d5e-da78-e0b8c2567d12"
      },
      "outputs": [
        {
          "data": {
            "text/plain": [
              "description              object\n",
              "neighborhood_overview    object\n",
              "host_location            object\n",
              "host_about               object\n",
              "host_response_time       object\n",
              "host_response_rate       object\n",
              "host_acceptance_rate     object\n",
              "host_is_superhost        object\n",
              "host_neighbourhood       object\n",
              "neighbourhood            object\n",
              "bathrooms_text           object\n",
              "price                    object\n",
              "has_availability         object\n",
              "first_review             object\n",
              "last_review              object\n",
              "license                  object\n",
              "dtype: object"
            ]
          },
          "execution_count": 4,
          "metadata": {},
          "output_type": "execute_result"
        }
      ],
      "source": [
        "#Información tipos de columnas\n",
        "Tipos_Columnas = Chicago[Columnas_Con_Nulos.index].dtypes\n",
        "Columnas_Object = Tipos_Columnas[Tipos_Columnas == 'object']\n",
        "Columnas_Object"
      ]
    },
    {
      "cell_type": "code",
      "execution_count": 5,
      "metadata": {
        "colab": {
          "base_uri": "https://localhost:8080/",
          "height": 492
        },
        "id": "U4Xf1njhcKmR",
        "outputId": "4c07d00c-a396-46e8-c150-76d12274f006"
      },
      "outputs": [
        {
          "data": {
            "text/plain": [
              "neighbourhood_group_cleansed    float64\n",
              "bathrooms                       float64\n",
              "bedrooms                        float64\n",
              "beds                            float64\n",
              "calendar_updated                float64\n",
              "review_scores_rating            float64\n",
              "review_scores_accuracy          float64\n",
              "review_scores_cleanliness       float64\n",
              "review_scores_checkin           float64\n",
              "review_scores_communication     float64\n",
              "review_scores_location          float64\n",
              "review_scores_value             float64\n",
              "reviews_per_month               float64\n",
              "dtype: object"
            ]
          },
          "execution_count": 5,
          "metadata": {},
          "output_type": "execute_result"
        }
      ],
      "source": [
        "#Información tipos de columnas\n",
        "Tipos_Columnas = Chicago[Columnas_Con_Nulos.index].dtypes\n",
        "Columnas_Object = Tipos_Columnas[Tipos_Columnas == 'float']\n",
        "Columnas_Object"
      ]
    },
    {
      "cell_type": "code",
      "execution_count": 6,
      "metadata": {
        "id": "4KqeMEqWcOnT"
      },
      "outputs": [],
      "source": [
        "#Realizamos una copia del dataframe\n",
        "copia_Chicago= Chicago.copy()"
      ]
    },
    {
      "cell_type": "code",
      "execution_count": 7,
      "metadata": {
        "id": "X9mwTMTLdId8"
      },
      "outputs": [
        {
          "name": "stderr",
          "output_type": "stream",
          "text": [
            "<>:2: SyntaxWarning: invalid escape sequence '\\$'\n",
            "<>:2: SyntaxWarning: invalid escape sequence '\\$'\n",
            "C:\\Users\\Osvaldo\\AppData\\Local\\Temp\\ipykernel_10096\\3573039007.py:2: SyntaxWarning: invalid escape sequence '\\$'\n",
            "  copia_Chicago['price'] = copia_Chicago['price'].replace('[\\$,]', '', regex=True).astype(float)\n"
          ]
        }
      ],
      "source": [
        "#Convertir la variable price a numerico\n",
        "copia_Chicago['price'] = copia_Chicago['price'].replace('[\\$,]', '', regex=True).astype(float)"
      ]
    },
    {
      "cell_type": "code",
      "execution_count": 8,
      "metadata": {
        "id": "KlDMD5JKfsjz"
      },
      "outputs": [],
      "source": [
        "#Eliminamos esta columna ya que todos los datos son nulos\n",
        "copia_Chicago= copia_Chicago.drop(columns=['neighbourhood_group_cleansed'])\n",
        "copia_Chicago= copia_Chicago.drop(columns=['calendar_updated'])"
      ]
    },
    {
      "cell_type": "code",
      "execution_count": 9,
      "metadata": {
        "id": "RTTpEz-PcXob"
      },
      "outputs": [],
      "source": [
        "#Sustituir valores nulos por un string en  concreto\n",
        "copia_Chicago[\"description\"] = copia_Chicago[\"description\"].fillna(\"DESCRIPCIÓN FALTANTE\")\n",
        "copia_Chicago[\"neighborhood_overview\"] = copia_Chicago[\"neighborhood_overview\"].fillna(\"SIN INFORMACIÓN\")\n",
        "copia_Chicago[\"host_location\"] = copia_Chicago[\"host_location\"].fillna(\"SIN INFORMACIÓN\")\n",
        "copia_Chicago[\"host_about\"] = copia_Chicago[\"host_about\"].fillna(\"SIN INFORMACIÓN\")\n",
        "copia_Chicago[\"host_response_time\"] = copia_Chicago[\"host_response_time\"].fillna(\"SIN INFORMACIÓN\")\n",
        "copia_Chicago[\"host_response_rate\"] = copia_Chicago[\"host_response_rate\"].fillna(\"SIN INFORMACIÓN\")\n",
        "copia_Chicago[\"host_acceptance_rate\"] = copia_Chicago[\"host_acceptance_rate\"].fillna(\"SIN INFORMACIÓN\")\n",
        "copia_Chicago[\"host_is_superhost\"] = copia_Chicago[\"host_is_superhost\"].fillna(\"VALIDACIÓN PENDIENTE\")\n",
        "copia_Chicago[\"host_neighbourhood\"] = copia_Chicago[\"host_neighbourhood\"].fillna(\"SIN INFORMACIÓN\")\n",
        "copia_Chicago[\"neighbourhood\"] = copia_Chicago[\"neighbourhood\"].fillna(\"SIN INFORMACIÓN\")\n",
        "copia_Chicago[\"bathrooms_text\"] = copia_Chicago[\"bathrooms_text\"].fillna(\"INFORMACIÓN FALTANTE\")\n",
        "copia_Chicago[\"has_availability\"] = copia_Chicago[\"has_availability\"].fillna(\"INFORMACIÓN NO DISPONIBLE\")\n",
        "copia_Chicago[\"first_review\"] = copia_Chicago[\"first_review\"].fillna(\"SIN RESEÑA\")\n",
        "copia_Chicago[\"last_review\"] = copia_Chicago[\"last_review\"].fillna(\"SIN RESEÑA\")\n",
        "copia_Chicago[\"license\"] = copia_Chicago[\"license\"].fillna(\"SIN LICENCIA\")"
      ]
    },
    {
      "cell_type": "code",
      "execution_count": 10,
      "metadata": {
        "id": "dCJ9cvKrc7oZ"
      },
      "outputs": [],
      "source": [
        "#Sustituir valores nulos con promedio o media\n",
        "copia_Chicago[\"review_scores_rating\"] = copia_Chicago[\"review_scores_rating\"].fillna(round(copia_Chicago[\"review_scores_rating\"].mean(), 1))\n",
        "copia_Chicago[\"review_scores_accuracy\"] = copia_Chicago[\"review_scores_accuracy\"].fillna(round(copia_Chicago[\"review_scores_accuracy\"].mean(), 1))\n",
        "copia_Chicago[\"review_scores_cleanliness\"] = copia_Chicago[\"review_scores_cleanliness\"].fillna(round(copia_Chicago[\"review_scores_cleanliness\"].mean(), 1))\n",
        "copia_Chicago[\"review_scores_checkin\"] = copia_Chicago[\"review_scores_checkin\"].fillna(round(copia_Chicago[\"review_scores_checkin\"].mean(), 1))\n",
        "copia_Chicago[\"review_scores_communication\"] = copia_Chicago[\"review_scores_communication\"].fillna(round(copia_Chicago[\"review_scores_communication\"].mean(), 1))\n",
        "copia_Chicago[\"review_scores_location\"] = copia_Chicago[\"review_scores_location\"].fillna(round(copia_Chicago[\"review_scores_location\"].mean(), 1))\n",
        "copia_Chicago[\"review_scores_value\"] = copia_Chicago[\"review_scores_value\"].fillna(round(copia_Chicago[\"review_scores_value\"].mean(), 1))\n",
        "copia_Chicago[\"reviews_per_month\"] = copia_Chicago[\"reviews_per_month\"].fillna(round(copia_Chicago[\"reviews_per_month\"].mean(), 1))\n",
        "copia_Chicago[\"price\"] = copia_Chicago[\"price\"].fillna(round(copia_Chicago[\"price\"].mean(), 1))"
      ]
    },
    {
      "cell_type": "code",
      "execution_count": 11,
      "metadata": {
        "id": "nLkVe3nQc-Ze"
      },
      "outputs": [],
      "source": [
        "#Sustituir valores nulos por un valor numérico en  concreto\n",
        "copia_Chicago[\"beds\"]=copia_Chicago[\"beds\"].fillna(\"-\")\n",
        "copia_Chicago[\"bedrooms\"]=copia_Chicago[\"bedrooms\"].fillna(\"-\")\n",
        "copia_Chicago[\"bathrooms\"]=copia_Chicago[\"bathrooms\"].fillna(\"-\")"
      ]
    },
    {
      "cell_type": "code",
      "execution_count": 12,
      "metadata": {
        "colab": {
          "base_uri": "https://localhost:8080/",
          "height": 1000
        },
        "id": "QYau5HvulHSL",
        "outputId": "7a75a7fc-ea6c-4de1-d32b-ca7d3d9c436a"
      },
      "outputs": [
        {
          "data": {
            "text/plain": [
              "id                                              0\n",
              "listing_url                                     0\n",
              "scrape_id                                       0\n",
              "last_scraped                                    0\n",
              "source                                          0\n",
              "name                                            0\n",
              "description                                     0\n",
              "neighborhood_overview                           0\n",
              "picture_url                                     0\n",
              "host_id                                         0\n",
              "host_url                                        0\n",
              "host_name                                       0\n",
              "host_since                                      0\n",
              "host_location                                   0\n",
              "host_about                                      0\n",
              "host_response_time                              0\n",
              "host_response_rate                              0\n",
              "host_acceptance_rate                            0\n",
              "host_is_superhost                               0\n",
              "host_thumbnail_url                              0\n",
              "host_picture_url                                0\n",
              "host_neighbourhood                              0\n",
              "host_listings_count                             0\n",
              "host_total_listings_count                       0\n",
              "host_verifications                              0\n",
              "host_has_profile_pic                            0\n",
              "host_identity_verified                          0\n",
              "neighbourhood                                   0\n",
              "neighbourhood_cleansed                          0\n",
              "latitude                                        0\n",
              "longitude                                       0\n",
              "property_type                                   0\n",
              "room_type                                       0\n",
              "accommodates                                    0\n",
              "bathrooms                                       0\n",
              "bathrooms_text                                  0\n",
              "bedrooms                                        0\n",
              "beds                                            0\n",
              "amenities                                       0\n",
              "price                                           0\n",
              "minimum_nights                                  0\n",
              "maximum_nights                                  0\n",
              "minimum_minimum_nights                          0\n",
              "maximum_minimum_nights                          0\n",
              "minimum_maximum_nights                          0\n",
              "maximum_maximum_nights                          0\n",
              "minimum_nights_avg_ntm                          0\n",
              "maximum_nights_avg_ntm                          0\n",
              "has_availability                                0\n",
              "availability_30                                 0\n",
              "availability_60                                 0\n",
              "availability_90                                 0\n",
              "availability_365                                0\n",
              "calendar_last_scraped                           0\n",
              "number_of_reviews                               0\n",
              "number_of_reviews_ltm                           0\n",
              "number_of_reviews_l30d                          0\n",
              "first_review                                    0\n",
              "last_review                                     0\n",
              "review_scores_rating                            0\n",
              "review_scores_accuracy                          0\n",
              "review_scores_cleanliness                       0\n",
              "review_scores_checkin                           0\n",
              "review_scores_communication                     0\n",
              "review_scores_location                          0\n",
              "review_scores_value                             0\n",
              "license                                         0\n",
              "instant_bookable                                0\n",
              "calculated_host_listings_count                  0\n",
              "calculated_host_listings_count_entire_homes     0\n",
              "calculated_host_listings_count_private_rooms    0\n",
              "calculated_host_listings_count_shared_rooms     0\n",
              "reviews_per_month                               0\n",
              "dtype: int64"
            ]
          },
          "execution_count": 12,
          "metadata": {},
          "output_type": "execute_result"
        }
      ],
      "source": [
        "#Corroboramos valores nulos\n",
        "# Ajustar maximo de filas\n",
        "pd.options.display.max_rows = None\n",
        "valores_nulos=copia_Chicago.isnull().sum()\n",
        "valores_nulos"
      ]
    },
    {
      "cell_type": "code",
      "execution_count": 13,
      "metadata": {
        "id": "LOxtLsNSlXhw"
      },
      "outputs": [],
      "source": [
        "#Seleccionar variables relevantes\n",
        "Chicago_variables = copia_Chicago[['listing_url', 'last_scraped', 'source', 'name', 'host_url', 'host_name', 'host_since', 'host_location', 'host_response_time', 'host_response_rate', 'host_acceptance_rate', 'host_is_superhost', 'host_neighbourhood', 'host_verifications', 'host_has_profile_pic', 'host_identity_verified', 'neighbourhood_cleansed', 'property_type', 'room_type', 'accommodates', 'bathrooms_text', 'bedrooms', 'beds', 'amenities', 'price', 'has_availability', 'number_of_reviews', 'review_scores_rating', 'instant_bookable', 'calculated_host_listings_count', 'reviews_per_month']]"
      ]
    },
    {
      "cell_type": "code",
      "execution_count": 14,
      "metadata": {
        "id": "-PLxLxhiUjzg"
      },
      "outputs": [],
      "source": [
        "#ELIMINAR OUTLIERS POR EL METODO DE DESVIACION ESTANDAR\n",
        "#Separar por columnas cualitativas y cuantitativas\n",
        "columnas_cualitativas = Chicago_variables.select_dtypes(include = 'object')\n",
        "columnas_cuantitativas = Chicago_variables.select_dtypes(include = ['int64', 'float64'])"
      ]
    },
    {
      "cell_type": "code",
      "execution_count": 15,
      "metadata": {
        "colab": {
          "base_uri": "https://localhost:8080/",
          "height": 469
        },
        "id": "956waprHXurV",
        "outputId": "d1934a86-9f63-4733-b437-c02278f8fa52"
      },
      "outputs": [
        {
          "data": {
            "text/plain": [
              "<Figure size 2000x1000 with 0 Axes>"
            ]
          },
          "metadata": {},
          "output_type": "display_data"
        },
        {
          "data": {
            "image/png": "[encoded data removed]",
            "text/plain": [
              "<Figure size 640x480 with 1 Axes>"
            ]
          },
          "metadata": {},
          "output_type": "display_data"
        }
      ],
      "source": [
        "#Hacer un boxplot de valores atipicos de las columnas cuantitativas\n",
        "fig = plt.figure(figsize = (20, 10))\n",
        "columnas_cuantitativas.plot(kind = 'box', vert = False)\n",
        "plt.title(\"Valores atipicos\")\n",
        "plt.show()"
      ]
    },
    {
      "cell_type": "code",
      "execution_count": 16,
      "metadata": {
        "colab": {
          "base_uri": "https://localhost:8080/"
        },
        "id": "YqnMlusXl7t-",
        "outputId": "eafe0e08-95ec-4eeb-f2a8-435a2018005d"
      },
      "outputs": [
        {
          "name": "stdout",
          "output_type": "stream",
          "text": [
            "Limite superior permitido accommodates                       13.541243\n",
            "price                             945.637844\n",
            "number_of_reviews                 348.510118\n",
            "review_scores_rating                5.886191\n",
            "calculated_host_listings_count    460.781215\n",
            "reviews_per_month                   7.432146\n",
            "dtype: float64\n",
            "Limite inferior permitido accommodates                       -4.749995\n",
            "price                            -494.608418\n",
            "number_of_reviews                -243.430893\n",
            "review_scores_rating                3.647901\n",
            "calculated_host_listings_count   -365.208277\n",
            "reviews_per_month                  -3.607903\n",
            "dtype: float64\n"
          ]
        }
      ],
      "source": [
        "#Identificar los limites superior e inferior\n",
        "y = columnas_cuantitativas\n",
        "Limite_superior = y.mean() + 3*y.std()\n",
        "Limite_inferior = y.mean() - 3*y.std()\n",
        "print(\"Limite superior permitido\", Limite_superior)\n",
        "print(\"Limite inferior permitido\", Limite_inferior)"
      ]
    },
    {
      "cell_type": "code",
      "execution_count": 17,
      "metadata": {
        "id": "UPQjzWnOYF98"
      },
      "outputs": [],
      "source": [
        "#Filtrar solo por columnas dentro de los limites\n",
        "columnas_cuantitativas_sin_outliers = columnas_cuantitativas[(y <= Limite_superior) & (y >= Limite_inferior)]"
      ]
    },
    {
      "cell_type": "code",
      "execution_count": 18,
      "metadata": {
        "colab": {
          "base_uri": "https://localhost:8080/",
          "height": 272
        },
        "id": "5FxCHtfUYOPe",
        "outputId": "f1f7187c-0a8a-4a79-fead-56df36611820"
      },
      "outputs": [
        {
          "data": {
            "text/plain": [
              "accommodates                      210\n",
              "price                             146\n",
              "number_of_reviews                 142\n",
              "review_scores_rating              124\n",
              "calculated_host_listings_count    549\n",
              "reviews_per_month                  61\n",
              "dtype: int64"
            ]
          },
          "execution_count": 18,
          "metadata": {},
          "output_type": "execute_result"
        }
      ],
      "source": [
        "#Revisar valores nulos\n",
        "valores_nulos_cuantitativo = columnas_cuantitativas_sin_outliers.isnull().sum()\n",
        "valores_nulos_cuantitativo"
      ]
    },
    {
      "cell_type": "code",
      "execution_count": 19,
      "metadata": {
        "id": "RmvCv1uqYZy9"
      },
      "outputs": [],
      "source": [
        "#Hacer una copia del dataframe y rellenar los valores nulos con la media\n",
        "columnas_cuantitativas_limpio = columnas_cuantitativas_sin_outliers.copy()\n",
        "columnas_cuantitativas_limpio = columnas_cuantitativas_limpio.fillna(round(columnas_cuantitativas_sin_outliers.mean(), 1))"
      ]
    },
    {
      "cell_type": "code",
      "execution_count": 20,
      "metadata": {
        "colab": {
          "base_uri": "https://localhost:8080/",
          "height": 603
        },
        "id": "5om0IpI9YeTj",
        "outputId": "8cc56e04-7fd3-4457-fdba-c60587c3d33c"
      },
      "outputs": [
        {
          "data": {
            "text/html": [
              "<div>\n",
              "<style scoped>\n",
              "    .dataframe tbody tr th:only-of-type {\n",
              "        vertical-align: middle;\n",
              "    }\n",
              "\n",
              "    .dataframe tbody tr th {\n",
              "        vertical-align: top;\n",
              "    }\n",
              "\n",
              "    .dataframe thead th {\n",
              "        text-align: right;\n",
              "    }\n",
              "</style>\n",
              "<table border=\"1\" class=\"dataframe\">\n",
              "  <thead>\n",
              "    <tr style=\"text-align: right;\">\n",
              "      <th></th>\n",
              "      <th>accommodates</th>\n",
              "      <th>price</th>\n",
              "      <th>number_of_reviews</th>\n",
              "      <th>review_scores_rating</th>\n",
              "      <th>calculated_host_listings_count</th>\n",
              "      <th>reviews_per_month</th>\n",
              "      <th>listing_url</th>\n",
              "      <th>last_scraped</th>\n",
              "      <th>source</th>\n",
              "      <th>name</th>\n",
              "      <th>...</th>\n",
              "      <th>host_identity_verified</th>\n",
              "      <th>neighbourhood_cleansed</th>\n",
              "      <th>property_type</th>\n",
              "      <th>room_type</th>\n",
              "      <th>bathrooms_text</th>\n",
              "      <th>bedrooms</th>\n",
              "      <th>beds</th>\n",
              "      <th>amenities</th>\n",
              "      <th>has_availability</th>\n",
              "      <th>instant_bookable</th>\n",
              "    </tr>\n",
              "  </thead>\n",
              "  <tbody>\n",
              "    <tr>\n",
              "      <th>0</th>\n",
              "      <td>5.0</td>\n",
              "      <td>103.0</td>\n",
              "      <td>216.0</td>\n",
              "      <td>4.78</td>\n",
              "      <td>1.0</td>\n",
              "      <td>2.41</td>\n",
              "      <td>https://www.airbnb.com/rooms/16757056</td>\n",
              "      <td>2024-06-21</td>\n",
              "      <td>city scrape</td>\n",
              "      <td>Heart of Chicago 2BD + Parking</td>\n",
              "      <td>...</td>\n",
              "      <td>t</td>\n",
              "      <td>Lower West Side</td>\n",
              "      <td>Entire rental unit</td>\n",
              "      <td>Entire home/apt</td>\n",
              "      <td>1 bath</td>\n",
              "      <td>2.0</td>\n",
              "      <td>3.0</td>\n",
              "      <td>[\"Shampoo\", \"Dedicated workspace\", \"Wifi\", \"Pr...</td>\n",
              "      <td>t</td>\n",
              "      <td>f</td>\n",
              "    </tr>\n",
              "    <tr>\n",
              "      <th>1</th>\n",
              "      <td>6.0</td>\n",
              "      <td>169.0</td>\n",
              "      <td>71.0</td>\n",
              "      <td>4.73</td>\n",
              "      <td>1.0</td>\n",
              "      <td>1.74</td>\n",
              "      <td>https://www.airbnb.com/rooms/48112045</td>\n",
              "      <td>2024-06-21</td>\n",
              "      <td>city scrape</td>\n",
              "      <td>West Town Chicago Apt near Metra and United Ce...</td>\n",
              "      <td>...</td>\n",
              "      <td>f</td>\n",
              "      <td>West Town</td>\n",
              "      <td>Entire rental unit</td>\n",
              "      <td>Entire home/apt</td>\n",
              "      <td>1 bath</td>\n",
              "      <td>2.0</td>\n",
              "      <td>2.0</td>\n",
              "      <td>[\"Shampoo\", \"Dining table\", \"Window AC unit\", ...</td>\n",
              "      <td>t</td>\n",
              "      <td>f</td>\n",
              "    </tr>\n",
              "    <tr>\n",
              "      <th>2</th>\n",
              "      <td>4.0</td>\n",
              "      <td>128.0</td>\n",
              "      <td>1.0</td>\n",
              "      <td>5.00</td>\n",
              "      <td>6.0</td>\n",
              "      <td>0.31</td>\n",
              "      <td>https://www.airbnb.com/rooms/1089958767588000931</td>\n",
              "      <td>2024-06-21</td>\n",
              "      <td>city scrape</td>\n",
              "      <td>Nice 2bd 1ba w/ gated entrance!</td>\n",
              "      <td>...</td>\n",
              "      <td>t</td>\n",
              "      <td>Near West Side</td>\n",
              "      <td>Entire rental unit</td>\n",
              "      <td>Entire home/apt</td>\n",
              "      <td>1 bath</td>\n",
              "      <td>2.0</td>\n",
              "      <td>2.0</td>\n",
              "      <td>[\"Shampoo\", \"Wifi\", \"Bed linens\", \"Freezer\", \"...</td>\n",
              "      <td>t</td>\n",
              "      <td>t</td>\n",
              "    </tr>\n",
              "    <tr>\n",
              "      <th>3</th>\n",
              "      <td>3.0</td>\n",
              "      <td>96.0</td>\n",
              "      <td>43.0</td>\n",
              "      <td>4.93</td>\n",
              "      <td>1.0</td>\n",
              "      <td>0.58</td>\n",
              "      <td>https://www.airbnb.com/rooms/24694181</td>\n",
              "      <td>2024-06-21</td>\n",
              "      <td>city scrape</td>\n",
              "      <td>Talman Ave</td>\n",
              "      <td>...</td>\n",
              "      <td>t</td>\n",
              "      <td>Lincoln Square</td>\n",
              "      <td>Entire rental unit</td>\n",
              "      <td>Entire home/apt</td>\n",
              "      <td>1 bath</td>\n",
              "      <td>1.0</td>\n",
              "      <td>4.0</td>\n",
              "      <td>[\"Shampoo\", \"Ethernet connection\", \"Dedicated ...</td>\n",
              "      <td>t</td>\n",
              "      <td>f</td>\n",
              "    </tr>\n",
              "    <tr>\n",
              "      <th>4</th>\n",
              "      <td>6.0</td>\n",
              "      <td>315.0</td>\n",
              "      <td>6.0</td>\n",
              "      <td>4.67</td>\n",
              "      <td>1.0</td>\n",
              "      <td>0.46</td>\n",
              "      <td>https://www.airbnb.com/rooms/639920368906600737</td>\n",
              "      <td>2024-06-21</td>\n",
              "      <td>city scrape</td>\n",
              "      <td>Historic brownstone in the heart of Old Town!</td>\n",
              "      <td>...</td>\n",
              "      <td>t</td>\n",
              "      <td>Lincoln Park</td>\n",
              "      <td>Entire home</td>\n",
              "      <td>Entire home/apt</td>\n",
              "      <td>2 baths</td>\n",
              "      <td>2.0</td>\n",
              "      <td>2.0</td>\n",
              "      <td>[\"Crib - always at the listing\", \"Shampoo\", \"D...</td>\n",
              "      <td>t</td>\n",
              "      <td>f</td>\n",
              "    </tr>\n",
              "  </tbody>\n",
              "</table>\n",
              "<p>5 rows × 31 columns</p>\n",
              "</div>"
            ],
            "text/plain": [
              "   accommodates  price  number_of_reviews  review_scores_rating  \\\n",
              "0           5.0  103.0              216.0                  4.78   \n",
              "1           6.0  169.0               71.0                  4.73   \n",
              "2           4.0  128.0                1.0                  5.00   \n",
              "3           3.0   96.0               43.0                  4.93   \n",
              "4           6.0  315.0                6.0                  4.67   \n",
              "\n",
              "   calculated_host_listings_count  reviews_per_month  \\\n",
              "0                             1.0               2.41   \n",
              "1                             1.0               1.74   \n",
              "2                             6.0               0.31   \n",
              "3                             1.0               0.58   \n",
              "4                             1.0               0.46   \n",
              "\n",
              "                                        listing_url last_scraped       source  \\\n",
              "0             https://www.airbnb.com/rooms/16757056   2024-06-21  city scrape   \n",
              "1             https://www.airbnb.com/rooms/48112045   2024-06-21  city scrape   \n",
              "2  https://www.airbnb.com/rooms/1089958767588000931   2024-06-21  city scrape   \n",
              "3             https://www.airbnb.com/rooms/24694181   2024-06-21  city scrape   \n",
              "4   https://www.airbnb.com/rooms/639920368906600737   2024-06-21  city scrape   \n",
              "\n",
              "                                                name  ...  \\\n",
              "0                     Heart of Chicago 2BD + Parking  ...   \n",
              "1  West Town Chicago Apt near Metra and United Ce...  ...   \n",
              "2                    Nice 2bd 1ba w/ gated entrance!  ...   \n",
              "3                                         Talman Ave  ...   \n",
              "4      Historic brownstone in the heart of Old Town!  ...   \n",
              "\n",
              "  host_identity_verified neighbourhood_cleansed       property_type  \\\n",
              "0                      t        Lower West Side  Entire rental unit   \n",
              "1                      f              West Town  Entire rental unit   \n",
              "2                      t         Near West Side  Entire rental unit   \n",
              "3                      t         Lincoln Square  Entire rental unit   \n",
              "4                      t           Lincoln Park         Entire home   \n",
              "\n",
              "         room_type bathrooms_text bedrooms beds  \\\n",
              "0  Entire home/apt         1 bath      2.0  3.0   \n",
              "1  Entire home/apt         1 bath      2.0  2.0   \n",
              "2  Entire home/apt         1 bath      2.0  2.0   \n",
              "3  Entire home/apt         1 bath      1.0  4.0   \n",
              "4  Entire home/apt        2 baths      2.0  2.0   \n",
              "\n",
              "                                           amenities has_availability  \\\n",
              "0  [\"Shampoo\", \"Dedicated workspace\", \"Wifi\", \"Pr...                t   \n",
              "1  [\"Shampoo\", \"Dining table\", \"Window AC unit\", ...                t   \n",
              "2  [\"Shampoo\", \"Wifi\", \"Bed linens\", \"Freezer\", \"...                t   \n",
              "3  [\"Shampoo\", \"Ethernet connection\", \"Dedicated ...                t   \n",
              "4  [\"Crib - always at the listing\", \"Shampoo\", \"D...                t   \n",
              "\n",
              "  instant_bookable  \n",
              "0                f  \n",
              "1                f  \n",
              "2                t  \n",
              "3                f  \n",
              "4                f  \n",
              "\n",
              "[5 rows x 31 columns]"
            ]
          },
          "execution_count": 20,
          "metadata": {},
          "output_type": "execute_result"
        }
      ],
      "source": [
        "#Se juntan las columnas cualitativas con las cuantitativas\n",
        "Chicago_outliers = pd.concat([columnas_cuantitativas_limpio, columnas_cualitativas], axis = 1)\n",
        "Chicago_outliers.head()"
      ]
    },
    {
      "cell_type": "code",
      "execution_count": 21,
      "metadata": {
        "colab": {
          "base_uri": "https://localhost:8080/",
          "height": 1000
        },
        "id": "HWQW5_KxmLDq",
        "outputId": "9fb778e8-60d0-487e-e966-4915e6178ad9"
      },
      "outputs": [
        {
          "data": {
            "text/plain": [
              "accommodates                      0\n",
              "price                             0\n",
              "number_of_reviews                 0\n",
              "review_scores_rating              0\n",
              "calculated_host_listings_count    0\n",
              "reviews_per_month                 0\n",
              "listing_url                       0\n",
              "last_scraped                      0\n",
              "source                            0\n",
              "name                              0\n",
              "host_url                          0\n",
              "host_name                         0\n",
              "host_since                        0\n",
              "host_location                     0\n",
              "host_response_time                0\n",
              "host_response_rate                0\n",
              "host_acceptance_rate              0\n",
              "host_is_superhost                 0\n",
              "host_neighbourhood                0\n",
              "host_verifications                0\n",
              "host_has_profile_pic              0\n",
              "host_identity_verified            0\n",
              "neighbourhood_cleansed            0\n",
              "property_type                     0\n",
              "room_type                         0\n",
              "bathrooms_text                    0\n",
              "bedrooms                          0\n",
              "beds                              0\n",
              "amenities                         0\n",
              "has_availability                  0\n",
              "instant_bookable                  0\n",
              "dtype: int64"
            ]
          },
          "execution_count": 21,
          "metadata": {},
          "output_type": "execute_result"
        }
      ],
      "source": [
        "#Comprobamos que no existan valores nulos\n",
        "valores_nulos_Chicago_outliers = Chicago_outliers.isnull().sum()\n",
        "valores_nulos_Chicago_outliers"
      ]
    },
    {
      "cell_type": "code",
      "execution_count": 22,
      "metadata": {
        "id": "wM6sGurEYl1Q"
      },
      "outputs": [],
      "source": [
        "#Convertir archivo filtrado a CSV\n",
        "Chicago_outliers.to_csv(\"Chicago sin outliers.csv\")"
      ]
    }
  ],
  "metadata": {
    "colab": {
      "provenance": []
    },
    "kernelspec": {
      "display_name": "Python 3",
      "name": "python3"
    },
    "language_info": {
      "codemirror_mode": {
        "name": "ipython",
        "version": 3
      },
      "file_extension": ".py",
      "mimetype": "text/x-python",
      "name": "python",
      "nbconvert_exporter": "python",
      "pygments_lexer": "ipython3",
      "version": "3.12.4"
    }
  },
  "nbformat": 4,
  "nbformat_minor": 0
}
